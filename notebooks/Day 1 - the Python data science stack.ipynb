{
 "cells": [
  {
   "cell_type": "markdown",
   "metadata": {
    "slideshow": {
     "slide_type": "slide"
    }
   },
   "source": [
    "# Course overview\n",
    "* What are we doing here?\n",
    "* If you're not here for Intro to Data Science in Python, you're in the wrong place!"
   ]
  },
  {
   "cell_type": "markdown",
   "metadata": {
    "slideshow": {
     "slide_type": "subslide"
    }
   },
   "source": [
    "## Course objectives\n",
    "The goal of this course is to provide a high-level introduction to:\n",
    "* The Python language and the scientific Python stack\n",
    "* Core elements of a typical data science pipeline"
   ]
  },
  {
   "cell_type": "markdown",
   "metadata": {
    "slideshow": {
     "slide_type": "subslide"
    }
   },
   "source": [
    "## Who is this course for?\n",
    "* The ideal participant:\n",
    "    * Has prior programming experience in other languages (e.g., R, Matlab, etc.)\n",
    "    * Is familiar with basic statistics (descriptives, probability, regression, etc.)\n",
    "    * Analyzes data on a regular basis\n",
    "    * Is interested in learning how to analyze data more effectively in Python\n",
    "* Don't worry if you're not the ideal participant!\n",
    "    * But you may have to do some extra work to catch up\n",
    "* A  bit about me\n",
    "* A bit about you"
   ]
  },
  {
   "cell_type": "markdown",
   "metadata": {
    "slideshow": {
     "slide_type": "subslide"
    }
   },
   "source": [
    "## What this course will and won't do\n",
    "* It will give you a basic understanding of the Python data science ecosystem\n",
    "* It will help you figure out which resources to seek out next\n",
    "* It won't turn you into either a data scientist or a Python developer\n",
    "    * Programming and data science are hard!"
   ]
  },
  {
   "cell_type": "markdown",
   "metadata": {
    "slideshow": {
     "slide_type": "subslide"
    }
   },
   "source": [
    "## Structure of the course\n",
    "The course is structured loosely around different phases of a typical data science project:\n",
    "* Day 1: Setting up a data science environment\n",
    "* Day 2: Importing and preprocessing the data\n",
    "* Day 3: Describing, visualizing, and analyzing the data\n",
    "* Day 4: Machine learning/predictive modeling"
   ]
  },
  {
   "cell_type": "markdown",
   "metadata": {
    "slideshow": {
     "slide_type": "subslide"
    }
   },
   "source": [
    "## Getting the most out of the course\n",
    "* You'll get more out of the course if you interact with the code\n",
    "* To run the Jupyter notebooks, you'll need the following:\n",
    "    * Python\n",
    "    * The core Python scientific computing stack (Numpy, SciPy, pandas, matplotlib)\n",
    "    * Various additional packages we'll install as we go\n",
    "        * scikit-learn\n",
    "        * seaborn\n",
    "        * requests\n",
    "        * beautifulsoup4\n",
    "        * etc..."
   ]
  },
  {
   "cell_type": "markdown",
   "metadata": {
    "slideshow": {
     "slide_type": "subslide"
    }
   },
   "source": [
    "## Good news...\n",
    "\n",
    "Virtually all of the packages we'll cover are included in the base Anaconda distribution, available for all platforms.\n",
    "\n",
    "Additional packages can almost always be installed via conda or pip:\n",
    "\n",
    "> conda install [package]\n",
    "\n",
    "or\n",
    "\n",
    "> pip install [package]"
   ]
  },
  {
   "cell_type": "markdown",
   "metadata": {
    "slideshow": {
     "slide_type": "slide"
    }
   },
   "source": [
    "# Overview of Day 1\n",
    "* Course overview\n",
    "* What is data science?\n",
    "* The Python language\n",
    "* Why do data science in Python?\n",
    "* Comparison with other common languages\n",
    "* The scientific Python ecosystem\n",
    "* The Jupyter notebook\n",
    "* Best practices for data science"
   ]
  },
  {
   "cell_type": "markdown",
   "metadata": {
    "slideshow": {
     "slide_type": "slide"
    }
   },
   "source": [
    "# What is data science?"
   ]
  },
  {
   "cell_type": "markdown",
   "metadata": {
    "slideshow": {
     "slide_type": "subslide"
    }
   },
   "source": [
    "<div width=\"600px\">\n",
    "<img src=\"images/data_science_venn.png\" width=\"500px\" style=\"margin-bottom: 10px;\">\n",
    "<a href=\"http://drewconway.com/zia/2013/3/26/the-data-science-venn-diagram\" style=\"font-size: 14px;\">http://drewconway.com/zia/2013/3/26/the-data-science-venn-diagram</a>\n",
    "</div>"
   ]
  },
  {
   "cell_type": "markdown",
   "metadata": {
    "slideshow": {
     "slide_type": "subslide"
    }
   },
   "source": [
    "### General themes\n",
    "* Mathematical/statistical sophistication (contrast with data analyst, software developer)\n",
    "* Solid programming ability: can build automated data-processing pipelines\n",
    "* Extracts coherent stories from large amounts of data"
   ]
  },
  {
   "cell_type": "markdown",
   "metadata": {
    "slideshow": {
     "slide_type": "subslide"
    }
   },
   "source": [
    "### Skills\n",
    "The skill set people associate with data science varies wildly, and can include:\n",
    "* Statistics\n",
    "* Machine learning\n",
    "* Visualization\n",
    "* Expertise in Python, R, or similar\n",
    "* SQL\n",
    "* Hadoop\n",
    "* Optimization\n",
    "* Data munging\n",
    "* Etc. etc..."
   ]
  },
  {
   "cell_type": "markdown",
   "metadata": {
    "slideshow": {
     "slide_type": "subslide"
    }
   },
   "source": [
    "<img src=\"images/josh_wills_tweet.png\" width=\"700px\">"
   ]
  },
  {
   "cell_type": "markdown",
   "metadata": {
    "collapsed": true,
    "slideshow": {
     "slide_type": "slide"
    }
   },
   "source": [
    "# The Python language\n",
    "\n",
    "Python is a very widely used, very flexible, high-level, general-purpose, dynamic programming language"
   ]
  },
  {
   "cell_type": "markdown",
   "metadata": {
    "slideshow": {
     "slide_type": "subslide"
    }
   },
   "source": [
    "### High-level\n",
    "Python features a high level of abstraction\n",
    "* Many operations that are explicit in lower-level languages (e.g., C/C++) are implicit in Python\n",
    "* E.g., memory allocation, garbage collection, etc.\n",
    "* Python lets you write code faster"
   ]
  },
  {
   "cell_type": "markdown",
   "metadata": {
    "slideshow": {
     "slide_type": "subslide"
    }
   },
   "source": [
    "#### File reading in Java\n",
    "```java\n",
    "import java.io.BufferedReader;\n",
    "import java.io.FileReader;\n",
    "import java.io.IOException;\n",
    " \n",
    "public class ReadFile {\n",
    "    public static void main(String[] args) throws IOException{\n",
    "        String fileContents = readEntireFile(\"./foo.txt\");\n",
    "    }\n",
    " \n",
    "    private static String readEntireFile(String filename) throws IOException {\n",
    "        FileReader in = new FileReader(filename);\n",
    "        StringBuilder contents = new StringBuilder();\n",
    "        char[] buffer = new char[4096];\n",
    "        int read = 0;\n",
    "        do {\n",
    "            contents.append(buffer, 0, read);\n",
    "            read = in.read(buffer);\n",
    "        } while (read >= 0);\n",
    "        return contents.toString();\n",
    "    }\n",
    "}\n",
    "```"
   ]
  },
  {
   "cell_type": "markdown",
   "metadata": {
    "slideshow": {
     "slide_type": "subslide"
    }
   },
   "source": [
    "#### File-reading in Python\n",
    "```python\n",
    "open(filename).read()\n",
    "```"
   ]
  },
  {
   "cell_type": "markdown",
   "metadata": {
    "slideshow": {
     "slide_type": "subslide"
    }
   },
   "source": [
    "### General-purpose\n",
    "You can do almost everything in Python\n",
    "* Comprehensive standard library\n",
    "* Enormous ecosystem of third-party packages\n",
    "* Widely used in many areas of software development (web, dev-ops, data science, etc.)"
   ]
  },
  {
   "cell_type": "markdown",
   "metadata": {
    "slideshow": {
     "slide_type": "subslide"
    }
   },
   "source": [
    "### Dynamic\n",
    "Code is interpreted at run-time\n",
    "* No compilation process; code is read line-by-line when executed\n",
    "* Eliminates delays between development and execution\n",
    "* The downside: poorer performance compared to compiled languages"
   ]
  },
  {
   "cell_type": "markdown",
   "metadata": {
    "collapsed": true,
    "slideshow": {
     "slide_type": "subslide"
    }
   },
   "source": [
    "## Other important language features\n",
    "* Portable (interpreters available for every major operating system)\n",
    "* Supports multiple programming paradigms\n",
    "    * Object-oriented and procedural (including functional)\n",
    "* Emphasizes explicit, readable code (the \"Pythonic\" way)\n",
    "    * [Style conventions](https://www.python.org/dev/peps/pep-0008/) are taken seriously (http://docs.python-guide.org/en/latest/writing/style/)"
   ]
  },
  {
   "cell_type": "markdown",
   "metadata": {
    "slideshow": {
     "slide_type": "subslide"
    }
   },
   "source": [
    "## Other important language features\n",
    "* Dynamic (\"duck\") typing\n",
    "    * You don't have to declare a variable's type before assignment\n",
    "    * Python assumes objects will behave the way you expect them to\n",
    "        * If you ask an object to quack, Python won't first check to make sure it's a duck"
   ]
  },
  {
   "cell_type": "markdown",
   "metadata": {
    "slideshow": {
     "slide_type": "subslide"
    }
   },
   "source": [
    "### Will it quack?"
   ]
  },
  {
   "cell_type": "code",
   "execution_count": null,
   "metadata": {
    "collapsed": false,
    "slideshow": {
     "slide_type": "fragment"
    }
   },
   "outputs": [],
   "source": [
    "# a as an integer\n",
    "a = 14\n",
    "a * 2"
   ]
  },
  {
   "cell_type": "code",
   "execution_count": null,
   "metadata": {
    "collapsed": false,
    "slideshow": {
     "slide_type": "fragment"
    }
   },
   "outputs": [],
   "source": [
    "# a as a string\n",
    "a = \"A is for Apple\"\n",
    "a * 2"
   ]
  },
  {
   "cell_type": "code",
   "execution_count": null,
   "metadata": {
    "collapsed": false,
    "slideshow": {
     "slide_type": "fragment"
    }
   },
   "outputs": [],
   "source": [
    "# a as a list\n",
    "a = [1, 2, 3]\n",
    "a * 2"
   ]
  },
  {
   "cell_type": "code",
   "execution_count": null,
   "metadata": {
    "collapsed": false,
    "slideshow": {
     "slide_type": "fragment"
    }
   },
   "outputs": [],
   "source": [
    "# a as a datetime\n",
    "# We need   to import a module from the standard library\n",
    "# into the current namespace.\n",
    "import datetime\n",
    "a = datetime.datetime.now()\n",
    "print(\"The current datetime is %s\" % a)"
   ]
  },
  {
   "cell_type": "code",
   "execution_count": null,
   "metadata": {
    "collapsed": false,
    "slideshow": {
     "slide_type": "fragment"
    }
   },
   "outputs": [],
   "source": [
    "a * 2"
   ]
  },
  {
   "cell_type": "code",
   "execution_count": null,
   "metadata": {
    "collapsed": false,
    "slideshow": {
     "slide_type": "subslide"
    }
   },
   "outputs": [],
   "source": [
    "# We define a Polygon class that does nothing except\n",
    "# maintain an internal record of the number of sides\n",
    "# it's supposed to have. The class implements the magic\n",
    "# method __mul__, which overrides the standard\n",
    "# multiplication operator.\n",
    "class Polygon(object):\n",
    "    \n",
    "    def __init__(self, sides):\n",
    "        self.sides = sides\n",
    "        \n",
    "    def __mul__(self, n):\n",
    "        return(Polygon(self.sides * n))\n",
    "    \n",
    "    def __repr__(self):\n",
    "        return \"Polygon with %d sides\" % self.sides\n",
    "\n",
    "a = Polygon(3)\n",
    "a * 2"
   ]
  },
  {
   "cell_type": "markdown",
   "metadata": {
    "slideshow": {
     "slide_type": "slide"
    }
   },
   "source": [
    "# Why do data science in Python?\n",
    "\n",
    "* (Relatively) easy to learn\n",
    "* Exceptional libraries\n",
    "* Good performance\n",
    "* Lots of momentum within the scientific computing community"
   ]
  },
  {
   "cell_type": "markdown",
   "metadata": {
    "slideshow": {
     "slide_type": "subslide"
    }
   },
   "source": [
    "## Easy to learn\n",
    "* Readable, explicit syntax\n",
    "* Most packages are very well documented\n",
    "    * e.g., scikit-learn's [documentation](http://scikit-learn.org/stable/documentation.html) is widely held up as a model\n",
    "* A huge number of tutorials, guides, and other educational materials\n",
    "    * [Code Academy](https://www.codecademy.com/learn/python) is a good place to start\n",
    "    * Tons of questions (and answers) on [Stack Overflow](http://stackoverflow.com/questions/tagged/python)"
   ]
  },
  {
   "cell_type": "code",
   "execution_count": null,
   "metadata": {
    "collapsed": false,
    "slideshow": {
     "slide_type": "subslide"
    }
   },
   "outputs": [],
   "source": [
    "def print_name(first_name, last_name=None):\n",
    "\n",
    "    output = \"Hello, World! I'm \" + str(first_name)\n",
    "    \n",
    "    if last_name is not None:\n",
    "        output += \" \" + last_name\n",
    "        \n",
    "    print(output)\n",
    "    print(\"\\nI'll spell that out for you:\")\n",
    "    \n",
    "    for letter in first_name:\n",
    "        print(letter)\n",
    "    \n",
    "print_name(\"Tal\")"
   ]
  },
  {
   "cell_type": "markdown",
   "metadata": {
    "slideshow": {
     "slide_type": "subslide"
    }
   },
   "source": [
    "## Comprehensive standard library\n",
    "The standard Python library contains [a huge number of high-quality modules](https://docs.python.org/2/library/). For example:\n",
    "* os: operating system tools\n",
    "* re: regular expressions\n",
    "* collections: useful data structures\n",
    "* multiprocessing: simple parallelization tools\n",
    "* pickle: serialization\n",
    "* json: reading and writing JSON\n",
    "* argparse: command-line argument parsing\n",
    "* functools: functional programming tools\n",
    "* datetime: date and time functions"
   ]
  },
  {
   "cell_type": "markdown",
   "metadata": {
    "slideshow": {
     "slide_type": "subslide"
    }
   },
   "source": [
    "## _Amazing_ external libraries\n",
    "\n",
    "* Python has very good (often best-in-class) external packages for almost everything\n",
    "* Particularly important for data science, which draws on a very broad toolkit\n",
    "* Package management is easy (conda, pip)\n",
    "* Examples:\n",
    "    * Web development: flask, Django\n",
    "    * Database ORMs: SQLAlchemy, Django ORM (w/ adapters for all major DBs)\n",
    "    * Scraping/parsing text/markup: beautifulsoup, scrapy\n",
    "    * Natural language processing (NLP): nltk, gensim, textblob\n",
    "    * Numerical computation and data analysis: numpy, scipy, pandas, xarray\n",
    "    * Machine learning: scikit-learn, Theano, Tensorflow\n",
    "    * Image processing: pillow, scikit-image, OpenCV\n",
    "    * Plotting: matplotlib, seaborn, ggplot, Bokeh\n",
    "    * GUI development: pyQT, wxPython\n",
    "    * Testing: py.test, nose"
   ]
  },
  {
   "cell_type": "markdown",
   "metadata": {
    "slideshow": {
     "slide_type": "subslide"
    }
   },
   "source": [
    "## (Relatively) good performance\n",
    "* Python is a high-level dynamic language--this comes at a performance cost\n",
    "* For many (not all!) data scientists, performance is irrelevant most of the time\n",
    "* In general, the less Python code you write yourself, the better your performance will be\n",
    "    * Much of the standard library consists of Python interfaces to C functions\n",
    "    * Numpy, scikit-learn, Theano, etc. all rely heavily on C/C++ or Fortran"
   ]
  },
  {
   "cell_type": "code",
   "execution_count": null,
   "metadata": {
    "collapsed": false,
    "slideshow": {
     "slide_type": "subslide"
    }
   },
   "outputs": [],
   "source": [
    "my_list = list(range(1000))\n",
    "\n",
    "%timeit sum(my_list)"
   ]
  },
  {
   "cell_type": "code",
   "execution_count": null,
   "metadata": {
    "collapsed": false,
    "slideshow": {
     "slide_type": "fragment"
    }
   },
   "outputs": [],
   "source": [
    "def ill_write_my_own_sum_thank_you_very_much(l):\n",
    "    s = 0\n",
    "    for elem in my_list: \n",
    "        s += elem \n",
    "    return s\n",
    "\n",
    "%timeit ill_write_my_own_sum_thank_you_very_much(my_list)"
   ]
  },
  {
   "cell_type": "markdown",
   "metadata": {
    "slideshow": {
     "slide_type": "subslide"
    }
   },
   "source": [
    "### If you need more speed...\n",
    "* [Cython](cython.org) (a superset of Python) allows C type declarations, function calls\n",
    "* Rapid progress on just-in-time compilers that optimize code effortlessly"
   ]
  },
  {
   "cell_type": "code",
   "execution_count": null,
   "metadata": {
    "collapsed": true,
    "slideshow": {
     "slide_type": "subslide"
    }
   },
   "outputs": [],
   "source": [
    "import math\n",
    "\n",
    "def python_corr(n, arr1, arr2):\n",
    "    ''' Native Python implementation of correlation coefficient. '''\n",
    "    m1 = sum(arr1) / n\n",
    "    m2 = sum(arr2) / n\n",
    "    var1 = 0\n",
    "    var2 = 0\n",
    "    cov = 0\n",
    "    \n",
    "    for i in range(n):\n",
    "        d1 = arr1[i] - m1\n",
    "        d2 = arr2[i] - m2\n",
    "        var1 += math.pow(d1, 2)\n",
    "        var2 += math.pow(d2, 2)\n",
    "        cov += d1 * d2\n",
    "    \n",
    "    sd1 = math.sqrt(var1 / n)\n",
    "    sd2 = math.sqrt(var2 / n)\n",
    "    \n",
    "    return cov / (sd1 * sd2 * n)"
   ]
  },
  {
   "cell_type": "code",
   "execution_count": null,
   "metadata": {
    "collapsed": false,
    "slideshow": {
     "slide_type": "subslide"
    }
   },
   "outputs": [],
   "source": [
    "import numpy as np\n",
    "\n",
    "def numpy_corr(n, arr1, arr2):\n",
    "    ''' Compute correlation coefficient via numpy. '''\n",
    "    return np.corrcoef(arr1, arr2)[0, 1]"
   ]
  },
  {
   "cell_type": "code",
   "execution_count": null,
   "metadata": {
    "collapsed": false,
    "slideshow": {
     "slide_type": "subslide"
    }
   },
   "outputs": [],
   "source": [
    "from numba import jit\n",
    "\n",
    "@jit\n",
    "def numba_corr(n, arr1, arr2):\n",
    "    ''' Native Python implementation with Numba's just-in-time compiler. '''\n",
    "    m1 = sum(arr1) / n\n",
    "    m2 = sum(arr2) / n\n",
    "    var1 = 0\n",
    "    var2 = 0\n",
    "    cov = 0\n",
    "    \n",
    "    for i in range(n):\n",
    "        d1 = arr1[i] - m1\n",
    "        d2 = arr2[i] - m2\n",
    "        var1 += math.pow(d1, 2)\n",
    "        var2 += math.pow(d2, 2)\n",
    "        cov += d1 * d2\n",
    "    \n",
    "    sd1 = math.sqrt(var1 / n)\n",
    "    sd2 = math.sqrt(var2 / n)\n",
    "    \n",
    "    return cov / (sd1 * sd2 * n)"
   ]
  },
  {
   "cell_type": "code",
   "execution_count": null,
   "metadata": {
    "collapsed": false,
    "slideshow": {
     "slide_type": "subslide"
    }
   },
   "outputs": [],
   "source": [
    "import timeit\n",
    "import matplotlib.pyplot as plt\n",
    "%matplotlib inline\n",
    "\n",
    "versions = ['python_corr', 'numpy_corr', 'numba_corr']\n",
    "array_sizes = np.power(10, np.arange(1, 6))\n",
    "repeat = 5\n",
    "number = 20\n",
    "\n",
    "def setup(n, v):\n",
    "    return '''\n",
    "import numpy as np\n",
    "from __main__ import {}\n",
    "n = {}\n",
    "arr1 = np.random.normal(size={}).tolist()\n",
    "arr2 = np.random.normal(size={}).tolist()\n",
    "'''.format(v, n, n, n)\n",
    "\n",
    "results = np.zeros((len(array_sizes), len(versions)))\n",
    "\n",
    "for i, n in enumerate(array_sizes):\n",
    "    for j, v in enumerate(versions):\n",
    "        bests = timeit.repeat('{}(n, arr1, arr2)'.format(v), setup(n, v), repeat=repeat, number=number)\n",
    "        results[i, j] = np.array(bests).mean()\n",
    "        print(\"Time taken by {} (array size = {}): {:.2g} ms)\".format(v, n, results[i, j]))"
   ]
  },
  {
   "cell_type": "code",
   "execution_count": null,
   "metadata": {
    "collapsed": false,
    "slideshow": {
     "slide_type": "subslide"
    }
   },
   "outputs": [],
   "source": [
    "for j, v in enumerate(versions):\n",
    "    plt.plot(array_sizes[:], results[:, j], 'o-', ms=5, label=v.split('_')[0])\n",
    "plt.legend(loc='best')\n",
    "plt.ylabel('Time taken (ms)')\n",
    "plt.xlabel('Array size')"
   ]
  },
  {
   "cell_type": "markdown",
   "metadata": {
    "slideshow": {
     "slide_type": "slide"
    }
   },
   "source": [
    "# Python vs. other data science languages\n",
    "\n",
    "* Python competes for mind share with many other languages\n",
    "* Most notably, R\n",
    "* To a lesser extent, Matlab, Mathematica, SAS, Julia, Java, Scala, etc."
   ]
  },
  {
   "cell_type": "markdown",
   "metadata": {
    "slideshow": {
     "slide_type": "subslide"
    }
   },
   "source": [
    "### R\n",
    "* [R](https://www.r-project.org/) is dominant in statistics and some fields of science\n",
    "    * Has attracted many SAS, SPSS, and Stata users\n",
    "* Exceptional statistics support; hundreds of best-in-class libraries\n",
    "* Designed to make data analysis and visualization as easy as possible\n",
    "* Widely considered a mediocre programming language\n",
    "    * Minimal support for most things non-data-related"
   ]
  },
  {
   "cell_type": "markdown",
   "metadata": {
    "slideshow": {
     "slide_type": "subslide"
    }
   },
   "source": [
    "### MATLAB\n",
    "* A proprietary numerical computing language widely used by engineers\n",
    "* Good performance and very active development, but very expensive\n",
    "* Closed ecosystem, relatively few third-party libraries\n",
    "* Not suitable for use as a general-purpose language"
   ]
  },
  {
   "cell_type": "markdown",
   "metadata": {
    "slideshow": {
     "slide_type": "subslide"
    }
   },
   "source": [
    "### Others\n",
    "* [Julia](http://julialang.org/) is a performant new language for technical computing\n",
    "    * Promising, but far too little library support compared to Python, R\n",
    "* [SAS](???) is an enterprise analytics software suite widely used in government, some industries\n",
    "    * Offers a GUI and handles large datasets very well\n",
    "    * Does very little other than data analysis\n",
    "* Java has an enormous ecosystem and excellent performance, but is extremely verbose\n",
    "* [SPSS](http://www.ibm.com/analytics/us/en/technology/spss/) is more of a cash cow for IBM than a programming language; we won't discuss it"
   ]
  },
  {
   "cell_type": "markdown",
   "metadata": {
    "slideshow": {
     "slide_type": "subslide"
    }
   },
   "source": [
    "## So, why Python?\n",
    "Why choose Python over other languages?\n",
    "* Arguably none of these offers the same combination of readability, flexibility, libraries, and performance\n",
    "* Python is sometimes described as \"the second best language for everything\"\n",
    "* Doesn't mean you should always use Python\n",
    "    * Depends on your needs, community, etc."
   ]
  },
  {
   "cell_type": "markdown",
   "metadata": {
    "slideshow": {
     "slide_type": "subslide"
    }
   },
   "source": [
    "## You can have your cake _and_ eat it!\n",
    "* Many languages--particularly R--now interface seamlessly with Python\n",
    "* You can work primarily in Python, fall back on R when you need it\n",
    "* The best of all possible worlds?"
   ]
  },
  {
   "cell_type": "markdown",
   "metadata": {
    "slideshow": {
     "slide_type": "slide"
    }
   },
   "source": [
    "# The core Python data science stack\n",
    "* The Python ecosystem contains tens of thousands of packages\n",
    "* Six of these are almost universal in data science applications:\n",
    "    * [Numpy](http://numpy.org): numerical computing in Python\n",
    "    * [Scipy](http://scipy.org): scientific Python tools\n",
    "    * [Matplotlib](http://matplotlib.org): plotting in Python\n",
    "    * [pandas](http://pandas.pydata.org/): complex data structures for Python\n",
    "    * [Jupyter/IPython](http://jupyter.org): interactive notebooks\n",
    "    * [scikit-learn](http://scikit-learn.org): machine learning in Python"
   ]
  },
  {
   "cell_type": "markdown",
   "metadata": {
    "slideshow": {
     "slide_type": "subslide"
    }
   },
   "source": [
    "## Numpy\n",
    "* \"The fundamental package for scientific computing with Python\"\n",
    "* The basic building block of most data analysis in Python\n",
    "* Numpy arrays: N-dimensional, homogeneous, unlabeled arrays\n",
    "* Working with numpy will look familiar if you've spent time in an environment like R or [Matlab](https://docs.scipy.org/doc/numpy-dev/user/numpy-for-matlab-users.html)\n",
    "    * If you haven't, I recommend doing [a numpy tutorial](http://www.python-course.eu/numpy.php) or two\n",
    "* Numpy contains highly optimized routines for creating and manipulating arrays"
   ]
  },
  {
   "cell_type": "code",
   "execution_count": null,
   "metadata": {
    "collapsed": false,
    "slideshow": {
     "slide_type": "subslide"
    }
   },
   "outputs": [],
   "source": [
    "import numpy as np\n",
    "import matplotlib.pyplot as plt\n",
    "\n",
    "# Draw all plots inline in the notebook\n",
    "%matplotlib inline\n",
    "\n",
    "# Create a 1d numpy array with values 0 through 99\n",
    "a = np.arange(1000)\n",
    "\n",
    "# Reshape into a 10 x 10 2d array\n",
    "a = np.reshape(a, (10, 100))\n",
    "\n",
    "# Add a little bit of noise\n",
    "b = np.random.normal(size=(10, 100))\n",
    "a = a + b\n",
    "\n",
    "# Inspect the first 50 elements of each of the first two rows\n",
    "print(a[:2, :50])\n",
    "\n",
    "# Plot only the 3rd through 6th rows\n",
    "to_plot = a[3:7, :]\n",
    "for row in to_plot:\n",
    "    plt.plot(row)"
   ]
  },
  {
   "cell_type": "markdown",
   "metadata": {
    "slideshow": {
     "slide_type": "subslide"
    }
   },
   "source": [
    "### Numpy exercises\n",
    "1. Create a 10 x 10 x 10 3d array of random numbers (hint: see examples above) and print any 2d (10 x 10) slice within that array\n",
    "2. Create two 2d arrays of any size and print their element-wise product\n",
    "3. Create a 1d array of any length and then reverse it (so the first element becomes the last)\n",
    "4. 100 more short exercises can be found [here](http://www.labri.fr/perso/nrougier/teaching/numpy.100/)"
   ]
  },
  {
   "cell_type": "code",
   "execution_count": null,
   "metadata": {
    "collapsed": false,
    "slideshow": {
     "slide_type": "fragment"
    }
   },
   "outputs": [],
   "source": [
    "# Write your code here"
   ]
  },
  {
   "cell_type": "markdown",
   "metadata": {
    "slideshow": {
     "slide_type": "subslide"
    }
   },
   "source": [
    "## Everything revolves around numpy arrays\n",
    "* Scipy adds a bunch of useful science and engineering routines that operate on numpy arrays\n",
    "    * signal processing, statistical distributions, image analysis, etc.\n",
    "* pandas adds a powerful methods for manipulating numpy arrays\n",
    "    * Like data frames in R--but typically faster\n",
    "* scikit-learn supports state-of-the-art machine learning over numpy arrays\n",
    "    * Inputs and outputs of virtually all functions are numpy arrays"
   ]
  },
  {
   "cell_type": "markdown",
   "metadata": {
    "slideshow": {
     "slide_type": "slide"
    }
   },
   "source": [
    "# The Jupyter notebook\n",
    "* \"The [Jupyter Notebook](http://jupyter.org) is a web application that allows you to create and share documents that contain live code, equations, visualizations and explanatory text.\"\n",
    "* Formerly the IPython Notebook\n",
    "* Supports dozens of languages\n",
    "* A living document wrapped around a command prompt"
   ]
  },
  {
   "cell_type": "markdown",
   "metadata": {
    "collapsed": true,
    "slideshow": {
     "slide_type": "subslide"
    }
   },
   "source": [
    "## Why Jupyter?\n",
    "* An easy way to write completely reproducible documents\n",
    "* Combine code, results, and text in one place\n",
    "* You can mix languages\n",
    "* Completely interactive: make a change and see what happens\n",
    "* Once you get used to it, hard to imagine doing things any other way"
   ]
  },
  {
   "cell_type": "markdown",
   "metadata": {
    "slideshow": {
     "slide_type": "subslide"
    }
   },
   "source": [
    "### Slideshow mode\n",
    "* These slides are actually a live Jupyter notebook\n",
    "* We can edit and execute cells on-the-fly"
   ]
  },
  {
   "cell_type": "markdown",
   "metadata": {
    "slideshow": {
     "slide_type": "subslide"
    }
   },
   "source": [
    "### This slide intentionally left blank"
   ]
  },
  {
   "cell_type": "code",
   "execution_count": null,
   "metadata": {
    "collapsed": true,
    "slideshow": {
     "slide_type": "fragment"
    }
   },
   "outputs": [],
   "source": []
  },
  {
   "cell_type": "markdown",
   "metadata": {
    "slideshow": {
     "slide_type": "subslide"
    }
   },
   "source": [
    "### Built-in LaTeX support\n",
    "$$ F(k) = \\int_{-\\infty}^{\\infty} f(x) e^{2\\pi i k} dx $$"
   ]
  },
  {
   "cell_type": "markdown",
   "metadata": {
    "slideshow": {
     "slide_type": "subslide"
    }
   },
   "source": [
    "### Magic functions\n",
    "* Jupyter includes a number of [\"magic\" commands](https://ipython.org/ipython-doc/3/interactive/magics.html) to make life easier\n",
    "* Support in-line plotting, timing, debugging, calling other languages, etc."
   ]
  },
  {
   "cell_type": "code",
   "execution_count": null,
   "metadata": {
    "collapsed": false,
    "slideshow": {
     "slide_type": "fragment"
    }
   },
   "outputs": [],
   "source": [
    "# This line says we want plots displayed in cell output\n",
    "%matplotlib inline\n",
    "\n",
    "import matplotlib.pyplot as plt\n",
    "import numpy as np\n",
    "\n",
    "x = np.random.normal(size=100)\n",
    "y = np.random.normal(size=100)\n",
    "p = plt.scatter(x, y)"
   ]
  },
  {
   "cell_type": "markdown",
   "metadata": {
    "slideshow": {
     "slide_type": "subslide"
    }
   },
   "source": [
    "### Combining R and Python with the %R magic\n",
    "* In the same notebook\n",
    "* And even in the same notebook cell!\n",
    "* Can also use an [R kernel](https://github.com/IRkernel/IRkernel) with the notebook"
   ]
  },
  {
   "cell_type": "code",
   "execution_count": null,
   "metadata": {
    "collapsed": false,
    "slideshow": {
     "slide_type": "fragment"
    }
   },
   "outputs": [],
   "source": [
    "# This cell won't work unless you've installed R and rpy2.\n",
    "# You can get R from CRAN (https://cloud.r-project.org/),\n",
    "# and install rpy2 with pip.\n",
    "%load_ext rpy2.ipython\n",
    "\n",
    "import seaborn as sns\n",
    "\n",
    "df = sns.load_dataset('tips')\n",
    "print(df.head())\n",
    "\n",
    "%R -i df\n",
    "%R library(ggplot2)\n",
    "%R print(qplot(total_bill, tip, color=time, data=df) + geom_smooth(method='lm'))"
   ]
  },
  {
   "cell_type": "markdown",
   "metadata": {
    "slideshow": {
     "slide_type": "subslide"
    }
   },
   "source": [
    "### Cell vs. line magics\n",
    "* %R will let you write one line of R code into a Python cell\n",
    "* %%R turns the whole cell into R code"
   ]
  },
  {
   "cell_type": "code",
   "execution_count": null,
   "metadata": {
    "collapsed": false,
    "slideshow": {
     "slide_type": "fragment"
    }
   },
   "outputs": [],
   "source": [
    "%%R\n",
    "x = rnorm(100)\n",
    "y = rnorm(100)\n",
    "print(qplot(x, y))\n",
    "print(summary(lm(y ~ x)))"
   ]
  },
  {
   "cell_type": "markdown",
   "metadata": {
    "slideshow": {
     "slide_type": "subslide"
    }
   },
   "source": [
    "# Best practices\n",
    "\n",
    "* Good data scientists borrow many best practices from software developers\n",
    "* Efficiency and reproducibility are key\n",
    "* Some best practices:\n",
    "    * Maintain project- or domain-specific environments\n",
    "    * Use version control (e.g., Git/GitHub)\n",
    "    * Profile your code\n",
    "    * Test your code*\n",
    "    * Document everything"
   ]
  },
  {
   "cell_type": "markdown",
   "metadata": {
    "slideshow": {
     "slide_type": "subslide"
    }
   },
   "source": [
    "## Set up project-specific environments\n",
    "* It's a good idea to set up a new Python environment for each project (or at least, domain)\n",
    "* Prevents version conflicts, makes dependency management easy\n",
    "* Conda makes this easy (see [the documentation](http://conda.pydata.org/docs/using/envs.html))\n",
    "* In the interest of time, we won't do this here--but you may want to try it for tomorrow"
   ]
  },
  {
   "cell_type": "markdown",
   "metadata": {
    "slideshow": {
     "slide_type": "subslide"
    }
   },
   "source": [
    "## Version control\n",
    "* Most data analysts are familiar \"how did I do that analysis?\" syndrome\n",
    "* Version or source control involves formally tracking the history of your work\n",
    "* Every major (sometimes minor) change is logged\n",
    "* Repository of changes is often maintained in a central location (e.g., GitHub)"
   ]
  },
  {
   "cell_type": "markdown",
   "metadata": {
    "slideshow": {
     "slide_type": "subslide"
    }
   },
   "source": [
    "## Git/GitHub\n",
    "* The most widely used source control platform is [git](https://git-scm.com/downloads)\n",
    "    * If you're on Linux or Mac, it's probably already installed (type `git` at command line)\n",
    "* GitHub is the most widely used Git hosting service\n",
    "    * Hosts most millions of projects (including this course)\n",
    "* Learning curve can be a bit steep, but there are [tutorials](https://git-scm.com/book/en/v2/Git-Basics-Getting-a-Git-Repository) and [GUIs](https://git-scm.com/downloads/guis) to help\n",
    "* A small example..."
   ]
  },
  {
   "cell_type": "markdown",
   "metadata": {
    "slideshow": {
     "slide_type": "subslide"
    }
   },
   "source": [
    "## Your homework assignment\n",
    "...should you choose to accept it\n",
    "* Install (or, if it's already installed, upgrade) git\n",
    "* Clone the repository for this course: `git clone https://github.com/tyarkoni/SSI2016.git`\n",
    "    * Will make it easier to work with the course notebooks\n",
    "* Create a user account on GitHub\n",
    "* Create a new repository, add a file (can be empty!), and push it to GitHub"
   ]
  },
  {
   "cell_type": "markdown",
   "metadata": {
    "slideshow": {
     "slide_type": "subslide"
    }
   },
   "source": [
    "## Code profiling\n",
    "* Code has bottlenecks\n",
    "* The bottlenecks are often not where you expect them to be\n",
    "* Python has many available tools for easy code profiling\n",
    "* The easiest to use is the cProfile module in the standard library"
   ]
  },
  {
   "cell_type": "code",
   "execution_count": null,
   "metadata": {
    "collapsed": false,
    "slideshow": {
     "slide_type": "subslide"
    }
   },
   "outputs": [],
   "source": [
    "import cProfile\n",
    "from scipy.signal import convolve\n",
    "import numpy as np\n",
    "\n",
    "def pointless_array_operations():\n",
    "    ''' A set of pointless array operations intended to chew up clock time. '''\n",
    "    n = 100\n",
    "    x = np.random.normal(size=(n, n))\n",
    "    y = np.random.normal(size=(n, n))\n",
    "    for i in range(200):\n",
    "        z = np.dot(x, y)\n",
    "        z = convolve(z, np.random.normal(size=(n, 1)))\n",
    "        np.corrcoef(x, z)\n",
    "        \n",
    "cProfile.run('pointless_array_operations()')"
   ]
  },
  {
   "cell_type": "markdown",
   "metadata": {
    "slideshow": {
     "slide_type": "subslide"
    }
   },
   "source": [
    "## ...but don't get carried away\n",
    "* There are many profiling tools\n",
    "* It's easy to get sucked in\n",
    "* \"Premature optimization is the root of all evil\"\n",
    "* Focus on the parts of your code that hamper performance most"
   ]
  },
  {
   "cell_type": "markdown",
   "metadata": {
    "slideshow": {
     "slide_type": "subslide"
    }
   },
   "source": [
    "## Document your code and workflow\n",
    "* Get in the habit of documenting everything you do (not just code)\n",
    "* Tell your users (including yourself) the story of what your analyses are doing\n",
    "* The Jupyter notebook makes this easy\n",
    "    * There are plenty of excellent examples on the web (e.g., [1](http://beautifuldata.net/2014/03/datalicious-notebookmania-my-favorite-7-ipython-notebooks/), [2](https://github.com/donnemartin/data-science-ipython-notebooks), [3](https://github.com/ipython/ipython/wiki/A-gallery-of-interesting-IPython-Notebooks))"
   ]
  },
  {
   "cell_type": "markdown",
   "metadata": {
    "slideshow": {
     "slide_type": "slide"
    }
   },
   "source": [
    "# Questions? Comments? Suggestions?\n",
    "* I'll stick around for ~20 minutes after every class\n",
    "* See you tomorrow!"
   ]
  }
 ],
 "metadata": {
  "celltoolbar": "Slideshow",
  "kernelspec": {
   "display_name": "Python 2",
   "language": "python",
   "name": "python2"
  },
  "language_info": {
   "codemirror_mode": {
    "name": "ipython",
    "version": 2
   },
   "file_extension": ".py",
   "mimetype": "text/x-python",
   "name": "python",
   "nbconvert_exporter": "python",
   "pygments_lexer": "ipython2",
   "version": "2.7.11"
  }
 },
 "nbformat": 4,
 "nbformat_minor": 0
}
