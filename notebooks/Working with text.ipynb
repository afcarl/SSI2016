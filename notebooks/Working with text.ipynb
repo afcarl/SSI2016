{
 "cells": [
  {
   "cell_type": "markdown",
   "metadata": {
    "slideshow": {
     "slide_type": "slide"
    }
   },
   "source": [
    "# Working with text\n",
    "* Working with strings in Python and pandas\n",
    "* Scraping text from the web\n",
    "* Regular expressions\n",
    "* ???"
   ]
  },
  {
   "cell_type": "markdown",
   "metadata": {
    "slideshow": {
     "slide_type": "subslide"
    }
   },
   "source": [
    "## String functions in Python\n",
    "* Python has rich built-in support for text processing\n",
    "* We can do powerful things with strings in very little code\n",
    "* Let's take a look at the methods available in the string class..."
   ]
  },
  {
   "cell_type": "code",
   "execution_count": null,
   "metadata": {
    "collapsed": false,
    "slideshow": {
     "slide_type": "fragment"
    }
   },
   "outputs": [],
   "source": [
    "# dir() lists all attributes (including methods) of the provided object \n",
    "msg = \"Hello, World!\"\n",
    "print(dir(msg))"
   ]
  },
  {
   "cell_type": "markdown",
   "metadata": {
    "slideshow": {
     "slide_type": "slide"
    }
   },
   "source": [
    "### A few examples"
   ]
  },
  {
   "cell_type": "code",
   "execution_count": null,
   "metadata": {
    "collapsed": false,
    "slideshow": {
     "slide_type": "fragment"
    }
   },
   "outputs": [],
   "source": [
    "msg = \"Hello, World!\"\n",
    "\n",
    "# Convert to lowercase\n",
    "print(1, 'ABCDE'.lower())\n",
    "\n",
    "# Find the index of the first occurence of 'o' in msg\n",
    "print(2, msg.find('o'))   \n",
    "\n",
    "# Split the string into a list on commas\n",
    "print(3, msg.split(','))\n",
    "\n",
    "# Replace a substring with another string\n",
    "print(4, msg.replace('World', 'Mars'))\n",
    "\n",
    "# Select and reverse characters 2 - 9\n",
    "print(5, msg[9:2:-1])\n",
    "\n",
    "# Separate all characters with an exclamation\n",
    "print(6, '!'.join(list(msg)))\n",
    "\n",
    "# Check if a string starts or ends with another string\n",
    "print(7, msg.startswith('Hell'))\n",
    "\n",
    "# Most string functions return a string, so we can chain calls\n",
    "msg = \"  A seNtEnCe witH somE Case ISsuES aNTYPOd exTra WhitesPACE.  \"\n",
    "print(8, msg.strip().lower().capitalize().replace('typo', ''))"
   ]
  },
  {
   "cell_type": "markdown",
   "metadata": {
    "slideshow": {
     "slide_type": "skip"
    }
   },
   "source": [
    "## String formatting\n",
    "* Python has a powerful built-in string formatting engine (examples: [1](https://pyformat.info/), [2](https://mkaz.tech/python-string-format.html))"
   ]
  },
  {
   "cell_type": "code",
   "execution_count": null,
   "metadata": {
    "collapsed": false,
    "slideshow": {
     "slide_type": "skip"
    }
   },
   "outputs": [],
   "source": [
    "# Define a string template\n",
    "template = \"I bought a ${:.2f} plane ticket from {} to {} yesterday.\"\n",
    "\n",
    "# Variables we want to inject into the string\n",
    "source = 'Austin'\n",
    "dest = 'Chicago'\n",
    "price = 282.45708284\n",
    "\n",
    "# Format the string\n",
    "print(template.format(price, source, dest))"
   ]
  },
  {
   "cell_type": "markdown",
   "metadata": {
    "slideshow": {
     "slide_type": "skip"
    }
   },
   "source": [
    "### External report templates\n",
    "We can take advantage of string formatting to populate external report templates that can be maintained/edited independently"
   ]
  },
  {
   "cell_type": "code",
   "execution_count": null,
   "metadata": {
    "collapsed": false,
    "slideshow": {
     "slide_type": "skip"
    }
   },
   "outputs": [],
   "source": [
    "# Read in the animal outcome data\n",
    "import pandas as pd\n",
    "data = pd.read_csv('../data/Austin_Animal_Center_Outcomes.csv')\n",
    "\n",
    "# Or, uncomment the next two lines if you don't have the local file\n",
    "# url = 'https://raw.githubusercontent.com/tyarkoni/SSI2016/master/data/Austin_Animal_Center_Outcomes.csv'\n",
    "# data = pd.read_csv(url)\n",
    "\n",
    "# Read in an HTML template\n",
    "template = open('../templates/report.html').read()\n",
    "\n",
    "# Restrict the dataset to only dogs with names (.dropna() will remove rows with missing values)\n",
    "dog_data = data[data['Animal Type']=='Dog']\n",
    "dogs_with_names = dog_data[['DateTime', 'Name', 'Breed', 'Outcome Type']].dropna()\n",
    "\n",
    "# Populate the fields in the template with data. Argument names passed to .format() must\n",
    "# match the names inside the {}'s in the template.\n",
    "formatted_html = template.format(\n",
    "        dataset_name = 'Austin Animal Center Outcomes',\n",
    "        number_of_rows = len(data),\n",
    "        table_contents = dogs_with_names.iloc[:100].to_html(index=False)\n",
    "    )\n",
    "\n",
    "# Write the result to a file. Open this in a browser and take a look!\n",
    "report_file = open('../templates/formatted_reported.html', 'w')\n",
    "report_file.write(formatted_html)"
   ]
  },
  {
   "cell_type": "markdown",
   "metadata": {},
   "source": [
    "## Strings in pandas\n",
    "* Pandas provides DataFrame-ready versions of many Python string methods\n",
    "* Or, we can apply any predefined Python code to a DataFrame (slower)\n",
    "* We'll look at one example of each of these approaches"
   ]
  },
  {
   "cell_type": "markdown",
   "metadata": {
    "slideshow": {
     "slide_type": "slide"
    }
   },
   "source": [
    "### How do we handle color?\n",
    "* We might want to know if animals' outcomes differ by color\n",
    "* But many animals have mixed colors; e.g., \"Orange/White\"\n",
    "* To analyze based on color, we might want to focus on the primary color\n",
    "    * We need to split the color string and keep just the first element\n",
    "    * We should probably also have an indicator tracking mixed vs. single color"
   ]
  },
  {
   "cell_type": "code",
   "execution_count": null,
   "metadata": {
    "collapsed": false,
    "slideshow": {
     "slide_type": "fragment"
    }
   },
   "outputs": [],
   "source": [
    "data['Color'].unique()[:50]"
   ]
  },
  {
   "cell_type": "code",
   "execution_count": null,
   "metadata": {
    "collapsed": false,
    "slideshow": {
     "slide_type": "slide"
    }
   },
   "outputs": [],
   "source": [
    "# pandas string methods are accessed through a column's str attribute\n",
    "\n",
    "# store the first color in the DataFrame\n",
    "data['first_color'] = data['Color'].str.split('/').str.get(0)\n",
    "\n",
    "# also store an indicator for mixed/single color\n",
    "data['mixed_color'] = data['Color'].str.count('/')\n",
    "\n",
    "data[['Color', 'first_color', 'mixed_color']].head(10)"
   ]
  }
 ],
 "metadata": {
  "celltoolbar": "Slideshow",
  "kernelspec": {
   "display_name": "Python 3",
   "language": "python",
   "name": "python3"
  },
  "language_info": {
   "codemirror_mode": {
    "name": "ipython",
    "version": 3
   },
   "file_extension": ".py",
   "mimetype": "text/x-python",
   "name": "python",
   "nbconvert_exporter": "python",
   "pygments_lexer": "ipython3",
   "version": "3.5.1"
  }
 },
 "nbformat": 4,
 "nbformat_minor": 0
}
